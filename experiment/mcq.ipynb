{
 "cells": [
  {
   "cell_type": "code",
   "execution_count": 141,
   "metadata": {},
   "outputs": [],
   "source": [
    "import os\n",
    "import json\n",
    "import pandas as pd \n",
    "import traceback\n",
    "from dotenv import load_dotenv"
   ]
  },
  {
   "cell_type": "code",
   "execution_count": 142,
   "metadata": {},
   "outputs": [],
   "source": [
    "from langchain_openai import AzureChatOpenAI"
   ]
  },
  {
   "cell_type": "code",
   "execution_count": 143,
   "metadata": {},
   "outputs": [
    {
     "data": {
      "text/plain": [
       "True"
      ]
     },
     "execution_count": 143,
     "metadata": {},
     "output_type": "execute_result"
    }
   ],
   "source": [
    "load_dotenv()"
   ]
  },
  {
   "cell_type": "code",
   "execution_count": 144,
   "metadata": {},
   "outputs": [],
   "source": [
    "llm = AzureChatOpenAI(\n",
    "    azure_deployment=os.getenv(\"AZURE_DEPLOYMENT_NAME\"),\n",
    "    api_version=os.getenv('API_VERSION'),\n",
    "    temperature=0.6,\n",
    "    max_tokens=None,\n",
    "    timeout=None,\n",
    "    api_key=os.getenv('API_KEY'),\n",
    "    azure_endpoint=os.getenv('AZURE_ENDPOINT')\n",
    ")"
   ]
  },
  {
   "cell_type": "code",
   "execution_count": 145,
   "metadata": {},
   "outputs": [
    {
     "data": {
      "text/plain": [
       "AIMessage(content=\"Why don't skeletons fight each other?\\n\\nThey don't have the guts.\", response_metadata={'token_usage': {'completion_tokens': 15, 'prompt_tokens': 11, 'total_tokens': 26}, 'model_name': 'gpt-4', 'system_fingerprint': 'fp_6d6abe0201', 'prompt_filter_results': [{'prompt_index': 0, 'content_filter_results': {'hate': {'filtered': False, 'severity': 'safe'}, 'self_harm': {'filtered': False, 'severity': 'safe'}, 'sexual': {'filtered': False, 'severity': 'safe'}, 'violence': {'filtered': False, 'severity': 'safe'}}}], 'finish_reason': 'stop', 'logprobs': None, 'content_filter_results': {'hate': {'filtered': False, 'severity': 'safe'}, 'self_harm': {'filtered': False, 'severity': 'safe'}, 'sexual': {'filtered': False, 'severity': 'safe'}, 'violence': {'filtered': False, 'severity': 'safe'}}}, id='run-7775ed43-4e39-46dc-ad7e-32879efdd71d-0', usage_metadata={'input_tokens': 11, 'output_tokens': 15, 'total_tokens': 26})"
      ]
     },
     "execution_count": 145,
     "metadata": {},
     "output_type": "execute_result"
    }
   ],
   "source": [
    "llm.invoke(\"Tell me a joke\")"
   ]
  },
  {
   "cell_type": "code",
   "execution_count": 146,
   "metadata": {},
   "outputs": [],
   "source": [
    "from langchain.llms import OpenAI\n",
    "from langchain.prompts import PromptTemplate\n",
    "from langchain.chains import LLMChain\n",
    "from langchain.chains import SequentialChain\n",
    "from langchain.callbacks import get_openai_callback\n"
   ]
  },
  {
   "cell_type": "code",
   "execution_count": 147,
   "metadata": {},
   "outputs": [],
   "source": [
    "RESPONSE_JSON = {\n",
    "    \"1\": {\n",
    "        \"mcq\": \"multiple choice question\",\n",
    "        \"options\": {\n",
    "            \"a\": \"choice here\",\n",
    "            \"b\": \"choice here\",\n",
    "            \"c\": \"choice here\",\n",
    "            \"d\": \"choice here\",\n",
    "        },\n",
    "        \"correct\": \"correct answer\",\n",
    "    },\n",
    "    \"2\": {\n",
    "        \"mcq\": \"multiple choice question\",\n",
    "        \"options\": {\n",
    "            \"a\": \"choice here\",\n",
    "            \"b\": \"choice here\",\n",
    "            \"c\": \"choice here\",\n",
    "            \"d\": \"choice here\",\n",
    "        },\n",
    "        \"correct\": \"correct answer\",\n",
    "    },\n",
    "    \"3\": {\n",
    "        \"mcq\": \"multiple choice question\",\n",
    "        \"options\": {\n",
    "            \"a\": \"choice here\",\n",
    "            \"b\": \"choice here\",\n",
    "            \"c\": \"choice here\",\n",
    "            \"d\": \"choice here\",\n",
    "        },\n",
    "        \"correct\": \"correct answer\",\n",
    "    },\n",
    "}"
   ]
  },
  {
   "cell_type": "code",
   "execution_count": 148,
   "metadata": {},
   "outputs": [],
   "source": [
    "TEMPLATE=\"\"\"\n",
    "Text:{text}\n",
    "You are an expert MCQ maker. Given the above text, it is your job to \\\n",
    "create a quiz  of {number} multiple choice questions for {subject} students in {tone} tone. \n",
    "Make sure the questions are not repeated and check all the questions to be conforming the text as well.\n",
    "Make sure to format your response like  RESPONSE_JSON below  and use it as a guide, and the response returned my be just json string, dont not any extra symbol it \\\n",
    "Ensure to make {number} MCQs\n",
    "### RESPONSE_JSON\n",
    "{response_json}\n",
    "\n",
    "\"\"\""
   ]
  },
  {
   "cell_type": "code",
   "execution_count": 149,
   "metadata": {},
   "outputs": [],
   "source": [
    "quiz_generation_prompt = PromptTemplate(\n",
    "    input_variables=[\"text\", \"number\", \"subject\", \"tone\", \"response_json\"],\n",
    "    template=TEMPLATE\n",
    "    )"
   ]
  },
  {
   "cell_type": "code",
   "execution_count": 150,
   "metadata": {},
   "outputs": [],
   "source": [
    "quiz_chain=LLMChain(llm=llm, prompt=quiz_generation_prompt, output_key=\"quiz\", verbose=True)"
   ]
  },
  {
   "cell_type": "code",
   "execution_count": 151,
   "metadata": {},
   "outputs": [],
   "source": [
    "TEMPLATE2=\"\"\"\n",
    "You are an expert english grammarian and writer. Given a Multiple Choice Quiz for {subject} students.\\\n",
    "You need to evaluate the complexity of the question and give a complete analysis of the quiz. Only use at max 50 words for complexity analysis. \n",
    "if the quiz is not at per with the cognitive and analytical abilities of the students,\\\n",
    "update the quiz questions which needs to be changed and change the tone such that it perfectly fits the student abilities\n",
    "Quiz_MCQs:\n",
    "{quiz}\n",
    "\n",
    "Check from an expert English Writer of the above quiz:\n",
    "\"\"\""
   ]
  },
  {
   "cell_type": "code",
   "execution_count": 152,
   "metadata": {},
   "outputs": [],
   "source": [
    "quiz_evaluation_prompt=PromptTemplate(input_variables=[\"subject\", \"quiz\"], template=TEMPLATE)"
   ]
  },
  {
   "cell_type": "code",
   "execution_count": 153,
   "metadata": {},
   "outputs": [],
   "source": [
    "review_chain=LLMChain(llm=llm, prompt=quiz_evaluation_prompt, output_key=\"review\", verbose=True)"
   ]
  },
  {
   "cell_type": "code",
   "execution_count": 154,
   "metadata": {},
   "outputs": [],
   "source": [
    "generate_evaluate_chain=SequentialChain(chains=[quiz_chain, review_chain], input_variables=[\"text\", \"number\", \"subject\", \"tone\", \"response_json\"],\n",
    "                                        output_variables=[\"quiz\", \"review\"], verbose=True,)"
   ]
  },
  {
   "cell_type": "code",
   "execution_count": 155,
   "metadata": {},
   "outputs": [],
   "source": [
    "file_path = \"/Users/a/Desktop/Machine Learning/data.txt\""
   ]
  },
  {
   "cell_type": "code",
   "execution_count": 156,
   "metadata": {},
   "outputs": [],
   "source": [
    "with open(file_path, 'r') as file:\n",
    "    TEXT = file.read()"
   ]
  },
  {
   "cell_type": "code",
   "execution_count": 157,
   "metadata": {},
   "outputs": [
    {
     "data": {
      "text/plain": [
       "'Data science is an interdisciplinary academic field[1] that uses statistics, scientific computing, scientific methods, processes, algorithms and systems to extract or extrapolate knowledge and insights from noisy, structured, and unstructured data.[2]\\n\\nData science also integrates domain knowledge from the underlying application domain (e.g., natural sciences, information technology, and medicine).[3] Data science is multifaceted and can be described as a science, a research paradigm, a research method, a discipline, a workflow, and a profession.[4]\\n\\nData science is a \"concept to unify statistics, data analysis, informatics, and their related methods\" to \"understand and analyze actual phenomena\" with data.[5] It uses techniques and theories drawn from many fields within the context of mathematics, statistics, computer science, information science, and domain knowledge.[6] However, data science is different from computer science and information science. Turing Award winner Jim Gray imagined data science as a \"fourth paradigm\" of science (empirical, theoretical, computational, and now data-driven) and asserted that \"everything about science is changing because of the impact of information technology\" and the data deluge.[7][8]\\n\\nA data scientist is a professional who creates programming code and combines it with statistical knowledge to create insights from data.[9]\\n\\nFoundations\\nData science is an interdisciplinary field[10] focused on extracting knowledge from typically large data sets and applying the knowledge and insights from that data to solve problems in a wide range of application domains. The field encompasses preparing data for analysis, formulating data science problems, analyzing data, developing data-driven solutions, and presenting findings to inform high-level decisions in a broad range of application domains. As such, it incorporates skills from computer science, statistics, information science, mathematics, data visualization, information visualization, data sonification, data integration, graphic design, complex systems, communication and business.[11][12] Statistician Nathan Yau, drawing on Ben Fry, also links data science to human–computer interaction: users should be able to intuitively control and explore data.[13][14] In 2015, the American Statistical Association identified database management, statistics and machine learning, and distributed and parallel systems as the three emerging foundational professional communities.[15]'"
      ]
     },
     "execution_count": 157,
     "metadata": {},
     "output_type": "execute_result"
    }
   ],
   "source": [
    "TEXT"
   ]
  },
  {
   "cell_type": "code",
   "execution_count": 158,
   "metadata": {},
   "outputs": [
    {
     "data": {
      "text/plain": [
       "'{\"1\": {\"mcq\": \"multiple choice question\", \"options\": {\"a\": \"choice here\", \"b\": \"choice here\", \"c\": \"choice here\", \"d\": \"choice here\"}, \"correct\": \"correct answer\"}, \"2\": {\"mcq\": \"multiple choice question\", \"options\": {\"a\": \"choice here\", \"b\": \"choice here\", \"c\": \"choice here\", \"d\": \"choice here\"}, \"correct\": \"correct answer\"}, \"3\": {\"mcq\": \"multiple choice question\", \"options\": {\"a\": \"choice here\", \"b\": \"choice here\", \"c\": \"choice here\", \"d\": \"choice here\"}, \"correct\": \"correct answer\"}}'"
      ]
     },
     "execution_count": 158,
     "metadata": {},
     "output_type": "execute_result"
    }
   ],
   "source": [
    "json.dumps(RESPONSE_JSON)"
   ]
  },
  {
   "cell_type": "code",
   "execution_count": 159,
   "metadata": {},
   "outputs": [],
   "source": [
    "NUMBER=10\n",
    "SUBJECT=\"data science\"\n",
    "TONE=\"simple\""
   ]
  },
  {
   "cell_type": "code",
   "execution_count": null,
   "metadata": {},
   "outputs": [],
   "source": []
  },
  {
   "cell_type": "code",
   "execution_count": 160,
   "metadata": {},
   "outputs": [
    {
     "name": "stdout",
     "output_type": "stream",
     "text": [
      "\n",
      "\n",
      "\u001b[1m> Entering new SequentialChain chain...\u001b[0m\n",
      "\n",
      "\n",
      "\u001b[1m> Entering new LLMChain chain...\u001b[0m\n",
      "Prompt after formatting:\n",
      "\u001b[32;1m\u001b[1;3m\n",
      "Text:Data science is an interdisciplinary academic field[1] that uses statistics, scientific computing, scientific methods, processes, algorithms and systems to extract or extrapolate knowledge and insights from noisy, structured, and unstructured data.[2]\n",
      "\n",
      "Data science also integrates domain knowledge from the underlying application domain (e.g., natural sciences, information technology, and medicine).[3] Data science is multifaceted and can be described as a science, a research paradigm, a research method, a discipline, a workflow, and a profession.[4]\n",
      "\n",
      "Data science is a \"concept to unify statistics, data analysis, informatics, and their related methods\" to \"understand and analyze actual phenomena\" with data.[5] It uses techniques and theories drawn from many fields within the context of mathematics, statistics, computer science, information science, and domain knowledge.[6] However, data science is different from computer science and information science. Turing Award winner Jim Gray imagined data science as a \"fourth paradigm\" of science (empirical, theoretical, computational, and now data-driven) and asserted that \"everything about science is changing because of the impact of information technology\" and the data deluge.[7][8]\n",
      "\n",
      "A data scientist is a professional who creates programming code and combines it with statistical knowledge to create insights from data.[9]\n",
      "\n",
      "Foundations\n",
      "Data science is an interdisciplinary field[10] focused on extracting knowledge from typically large data sets and applying the knowledge and insights from that data to solve problems in a wide range of application domains. The field encompasses preparing data for analysis, formulating data science problems, analyzing data, developing data-driven solutions, and presenting findings to inform high-level decisions in a broad range of application domains. As such, it incorporates skills from computer science, statistics, information science, mathematics, data visualization, information visualization, data sonification, data integration, graphic design, complex systems, communication and business.[11][12] Statistician Nathan Yau, drawing on Ben Fry, also links data science to human–computer interaction: users should be able to intuitively control and explore data.[13][14] In 2015, the American Statistical Association identified database management, statistics and machine learning, and distributed and parallel systems as the three emerging foundational professional communities.[15]\n",
      "You are an expert MCQ maker. Given the above text, it is your job to create a quiz  of 10 multiple choice questions for data science students in simple tone. \n",
      "Make sure the questions are not repeated and check all the questions to be conforming the text as well.\n",
      "Make sure to format your response like  RESPONSE_JSON below  and use it as a guide, and the response returned my be just json string, dont not any extra symbol it Ensure to make 10 MCQs\n",
      "### RESPONSE_JSON\n",
      "{\"1\": {\"mcq\": \"multiple choice question\", \"options\": {\"a\": \"choice here\", \"b\": \"choice here\", \"c\": \"choice here\", \"d\": \"choice here\"}, \"correct\": \"correct answer\"}, \"2\": {\"mcq\": \"multiple choice question\", \"options\": {\"a\": \"choice here\", \"b\": \"choice here\", \"c\": \"choice here\", \"d\": \"choice here\"}, \"correct\": \"correct answer\"}, \"3\": {\"mcq\": \"multiple choice question\", \"options\": {\"a\": \"choice here\", \"b\": \"choice here\", \"c\": \"choice here\", \"d\": \"choice here\"}, \"correct\": \"correct answer\"}}\n",
      "\n",
      "\u001b[0m\n",
      "\n",
      "\u001b[1m> Finished chain.\u001b[0m\n",
      "\n",
      "\n",
      "\u001b[1m> Entering new LLMChain chain...\u001b[0m\n",
      "Prompt after formatting:\n",
      "\u001b[32;1m\u001b[1;3m\n",
      "Text:Data science is an interdisciplinary academic field[1] that uses statistics, scientific computing, scientific methods, processes, algorithms and systems to extract or extrapolate knowledge and insights from noisy, structured, and unstructured data.[2]\n",
      "\n",
      "Data science also integrates domain knowledge from the underlying application domain (e.g., natural sciences, information technology, and medicine).[3] Data science is multifaceted and can be described as a science, a research paradigm, a research method, a discipline, a workflow, and a profession.[4]\n",
      "\n",
      "Data science is a \"concept to unify statistics, data analysis, informatics, and their related methods\" to \"understand and analyze actual phenomena\" with data.[5] It uses techniques and theories drawn from many fields within the context of mathematics, statistics, computer science, information science, and domain knowledge.[6] However, data science is different from computer science and information science. Turing Award winner Jim Gray imagined data science as a \"fourth paradigm\" of science (empirical, theoretical, computational, and now data-driven) and asserted that \"everything about science is changing because of the impact of information technology\" and the data deluge.[7][8]\n",
      "\n",
      "A data scientist is a professional who creates programming code and combines it with statistical knowledge to create insights from data.[9]\n",
      "\n",
      "Foundations\n",
      "Data science is an interdisciplinary field[10] focused on extracting knowledge from typically large data sets and applying the knowledge and insights from that data to solve problems in a wide range of application domains. The field encompasses preparing data for analysis, formulating data science problems, analyzing data, developing data-driven solutions, and presenting findings to inform high-level decisions in a broad range of application domains. As such, it incorporates skills from computer science, statistics, information science, mathematics, data visualization, information visualization, data sonification, data integration, graphic design, complex systems, communication and business.[11][12] Statistician Nathan Yau, drawing on Ben Fry, also links data science to human–computer interaction: users should be able to intuitively control and explore data.[13][14] In 2015, the American Statistical Association identified database management, statistics and machine learning, and distributed and parallel systems as the three emerging foundational professional communities.[15]\n",
      "You are an expert MCQ maker. Given the above text, it is your job to create a quiz  of 10 multiple choice questions for data science students in simple tone. \n",
      "Make sure the questions are not repeated and check all the questions to be conforming the text as well.\n",
      "Make sure to format your response like  RESPONSE_JSON below  and use it as a guide, and the response returned my be just json string, dont not any extra symbol it Ensure to make 10 MCQs\n",
      "### RESPONSE_JSON\n",
      "{\"1\": {\"mcq\": \"multiple choice question\", \"options\": {\"a\": \"choice here\", \"b\": \"choice here\", \"c\": \"choice here\", \"d\": \"choice here\"}, \"correct\": \"correct answer\"}, \"2\": {\"mcq\": \"multiple choice question\", \"options\": {\"a\": \"choice here\", \"b\": \"choice here\", \"c\": \"choice here\", \"d\": \"choice here\"}, \"correct\": \"correct answer\"}, \"3\": {\"mcq\": \"multiple choice question\", \"options\": {\"a\": \"choice here\", \"b\": \"choice here\", \"c\": \"choice here\", \"d\": \"choice here\"}, \"correct\": \"correct answer\"}}\n",
      "\n",
      "\u001b[0m\n",
      "\n",
      "\u001b[1m> Finished chain.\u001b[0m\n",
      "\n",
      "\u001b[1m> Finished chain.\u001b[0m\n"
     ]
    }
   ],
   "source": [
    "with get_openai_callback() as cb:\n",
    "    response=generate_evaluate_chain(\n",
    "        {\n",
    "            \"text\": TEXT,\n",
    "            \"number\": NUMBER,\n",
    "            \"subject\":SUBJECT,\n",
    "            \"tone\": TONE,\n",
    "            \"response_json\": json.dumps(RESPONSE_JSON)\n",
    "        }\n",
    "        )"
   ]
  },
  {
   "cell_type": "code",
   "execution_count": 161,
   "metadata": {},
   "outputs": [
    {
     "data": {
      "text/plain": [
       "{'text': 'Data science is an interdisciplinary academic field[1] that uses statistics, scientific computing, scientific methods, processes, algorithms and systems to extract or extrapolate knowledge and insights from noisy, structured, and unstructured data.[2]\\n\\nData science also integrates domain knowledge from the underlying application domain (e.g., natural sciences, information technology, and medicine).[3] Data science is multifaceted and can be described as a science, a research paradigm, a research method, a discipline, a workflow, and a profession.[4]\\n\\nData science is a \"concept to unify statistics, data analysis, informatics, and their related methods\" to \"understand and analyze actual phenomena\" with data.[5] It uses techniques and theories drawn from many fields within the context of mathematics, statistics, computer science, information science, and domain knowledge.[6] However, data science is different from computer science and information science. Turing Award winner Jim Gray imagined data science as a \"fourth paradigm\" of science (empirical, theoretical, computational, and now data-driven) and asserted that \"everything about science is changing because of the impact of information technology\" and the data deluge.[7][8]\\n\\nA data scientist is a professional who creates programming code and combines it with statistical knowledge to create insights from data.[9]\\n\\nFoundations\\nData science is an interdisciplinary field[10] focused on extracting knowledge from typically large data sets and applying the knowledge and insights from that data to solve problems in a wide range of application domains. The field encompasses preparing data for analysis, formulating data science problems, analyzing data, developing data-driven solutions, and presenting findings to inform high-level decisions in a broad range of application domains. As such, it incorporates skills from computer science, statistics, information science, mathematics, data visualization, information visualization, data sonification, data integration, graphic design, complex systems, communication and business.[11][12] Statistician Nathan Yau, drawing on Ben Fry, also links data science to human–computer interaction: users should be able to intuitively control and explore data.[13][14] In 2015, the American Statistical Association identified database management, statistics and machine learning, and distributed and parallel systems as the three emerging foundational professional communities.[15]',\n",
       " 'number': 10,\n",
       " 'subject': 'data science',\n",
       " 'tone': 'simple',\n",
       " 'response_json': '{\"1\": {\"mcq\": \"multiple choice question\", \"options\": {\"a\": \"choice here\", \"b\": \"choice here\", \"c\": \"choice here\", \"d\": \"choice here\"}, \"correct\": \"correct answer\"}, \"2\": {\"mcq\": \"multiple choice question\", \"options\": {\"a\": \"choice here\", \"b\": \"choice here\", \"c\": \"choice here\", \"d\": \"choice here\"}, \"correct\": \"correct answer\"}, \"3\": {\"mcq\": \"multiple choice question\", \"options\": {\"a\": \"choice here\", \"b\": \"choice here\", \"c\": \"choice here\", \"d\": \"choice here\"}, \"correct\": \"correct answer\"}}',\n",
       " 'quiz': '{\"1\": {\"mcq\": \"What does data science use to extract knowledge from data?\", \"options\": {\"a\": \"Only statistics\", \"b\": \"Only algorithms\", \"c\": \"Statistics, scientific computing, and algorithms\", \"d\": \"Only domain knowledge\"}, \"correct\": \"c\"}, \"2\": {\"mcq\": \"Data science integrates domain knowledge from?\", \"options\": {\"a\": \"Only natural sciences\", \"b\": \"Natural sciences, information technology, and medicine\", \"c\": \"Only information technology\", \"d\": \"Only medicine\"}, \"correct\": \"b\"}, \"3\": {\"mcq\": \"How can data science be described?\", \"options\": {\"a\": \"Only as a science\", \"b\": \"Only as a discipline\", \"c\": \"Only as a workflow\", \"d\": \"As a science, a research paradigm, a research method, a discipline, a workflow, and a profession\"}, \"correct\": \"d\"}, \"4\": {\"mcq\": \"What is data science a concept to unify?\", \"options\": {\"a\": \"Statistics and data analysis\", \"b\": \"Informatics and data analysis\", \"c\": \"Statistics, data analysis, informatics, and related methods\", \"d\": \"Only statistics and informatics\"}, \"correct\": \"c\"}, \"5\": {\"mcq\": \"What fields does data science use techniques and theories from?\", \"options\": {\"a\": \"Only mathematics\", \"b\": \"Only statistics\", \"c\": \"Only computer science\", \"d\": \"Mathematics, statistics, computer science, information science, and domain knowledge\"}, \"correct\": \"d\"}, \"6\": {\"mcq\": \"Who imagined data science as a \\\\\"fourth paradigm\\\\\" of science?\", \"options\": {\"a\": \"Einstein\", \"b\": \"Jim Gray\", \"c\": \"Newton\", \"d\": \"Turing\"}, \"correct\": \"b\"}, \"7\": {\"mcq\": \"What does a data scientist do?\", \"options\": {\"a\": \"Only creates programming code\", \"b\": \"Only analyzes data\", \"c\": \"Creates programming code and combines it with statistical knowledge to create insights from data\", \"d\": \"Only combines statistical knowledge\"}, \"correct\": \"c\"}, \"8\": {\"mcq\": \"What skills does data science incorporate?\", \"options\": {\"a\": \"Only computer science\", \"b\": \"Only statistics\", \"c\": \"Only mathematics\", \"d\": \"Computer science, statistics, information science, mathematics, and more\"}, \"correct\": \"d\"}, \"9\": {\"mcq\": \"According to the American Statistical Association, which is NOT one of the emerging foundational professional communities of data science?\", \"options\": {\"a\": \"Database management\", \"b\": \"Statistics and machine learning\", \"c\": \"Distributed and parallel systems\", \"d\": \"Web development\"}, \"correct\": \"d\"}, \"10\": {\"mcq\": \"Data science aims to solve problems in?\", \"options\": {\"a\": \"Only technology domains\", \"b\": \"Only natural sciences\", \"c\": \"A broad range of application domains\", \"d\": \"Only in mathematics\"}, \"correct\": \"c\"}}',\n",
       " 'review': '{\"1\": {\"mcq\": \"Data science is an interdisciplinary academic field that uses all of the following except:\", \"options\": {\"a\": \"statistics\", \"b\": \"scientific computing\", \"c\": \"literature analysis\", \"d\": \"scientific methods\"}, \"correct\": \"c\"}, \"2\": {\"mcq\": \"Which of the following is not a description of data science?\", \"options\": {\"a\": \"a science\", \"b\": \"a profession\", \"c\": \"a philosophy\", \"d\": \"a research method\"}, \"correct\": \"c\"}, \"3\": {\"mcq\": \"Jim Gray described data science as the \\'fourth paradigm\\' of science. Which of the following is not one of the paradigms?\", \"options\": {\"a\": \"empirical\", \"b\": \"theoretical\", \"c\": \"computational\", \"d\": \"quantum\"}, \"correct\": \"d\"}, \"4\": {\"mcq\": \"A data scientist typically combines programming code with:\", \"options\": {\"a\": \"statistical knowledge\", \"b\": \"philosophical theories\", \"c\": \"literary criticism\", \"d\": \"historical analysis\"}, \"correct\": \"a\"}, \"5\": {\"mcq\": \"Data science integrates domain knowledge from:\", \"options\": {\"a\": \"natural sciences\", \"b\": \"information technology\", \"c\": \"medicine\", \"d\": \"all of the above\"}, \"correct\": \"d\"}, \"6\": {\"mcq\": \"Which of the following skills is not linked to data science?\", \"options\": {\"a\": \"data visualization\", \"b\": \"graphic design\", \"c\": \"poetry writing\", \"d\": \"communication\"}, \"correct\": \"c\"}, \"7\": {\"mcq\": \"The American Statistical Association identified all of the following as emerging foundational professional communities except:\", \"options\": {\"a\": \"database management\", \"b\": \"statistics and machine learning\", \"c\": \"distributed and parallel systems\", \"d\": \"quantum computing\"}, \"correct\": \"d\"}, \"8\": {\"mcq\": \"Data science is different from:\", \"options\": {\"a\": \"computer science\", \"b\": \"information science\", \"c\": \"both a and b\", \"d\": \"neither a nor b\"}, \"correct\": \"c\"}, \"9\": {\"mcq\": \"Which area is not a direct application domain of data science?\", \"options\": {\"a\": \"natural sciences\", \"b\": \"information technology\", \"c\": \"medicine\", \"d\": \"astrology\"}, \"correct\": \"d\"}, \"10\": {\"mcq\": \"In data science, data can be:\", \"options\": {\"a\": \"noisy\", \"b\": \"structured\", \"c\": \"unstructured\", \"d\": \"all of the above\"}, \"correct\": \"d\"}}'}"
      ]
     },
     "execution_count": 161,
     "metadata": {},
     "output_type": "execute_result"
    }
   ],
   "source": [
    "response"
   ]
  },
  {
   "cell_type": "code",
   "execution_count": 162,
   "metadata": {},
   "outputs": [
    {
     "data": {
      "text/plain": [
       "dict"
      ]
     },
     "execution_count": 162,
     "metadata": {},
     "output_type": "execute_result"
    }
   ],
   "source": [
    "type(response)"
   ]
  },
  {
   "cell_type": "code",
   "execution_count": 163,
   "metadata": {},
   "outputs": [
    {
     "name": "stdout",
     "output_type": "stream",
     "text": [
      "Total Tokens:2700\n",
      "Prompt Tokens:1448\n",
      "Completion Tokens:1252\n",
      "Total Cost:0.11856\n",
      "Total Successful request:2\n"
     ]
    }
   ],
   "source": [
    "print(f\"Total Tokens:{cb.total_tokens}\")\n",
    "print(f\"Prompt Tokens:{cb.prompt_tokens}\")\n",
    "print(f\"Completion Tokens:{cb.completion_tokens}\")\n",
    "print(f\"Total Cost:{cb.total_cost}\")\n",
    "print(f\"Total Successful request:{cb.successful_requests}\")"
   ]
  },
  {
   "cell_type": "code",
   "execution_count": 164,
   "metadata": {},
   "outputs": [],
   "source": [
    "quiz_str=response.get(\"quiz\")"
   ]
  },
  {
   "cell_type": "code",
   "execution_count": 165,
   "metadata": {},
   "outputs": [],
   "source": [
    "quiz_dict = json.loads(quiz_str)"
   ]
  },
  {
   "cell_type": "code",
   "execution_count": 166,
   "metadata": {},
   "outputs": [
    {
     "data": {
      "text/plain": [
       "{'1': {'mcq': 'What does data science use to extract knowledge from data?',\n",
       "  'options': {'a': 'Only statistics',\n",
       "   'b': 'Only algorithms',\n",
       "   'c': 'Statistics, scientific computing, and algorithms',\n",
       "   'd': 'Only domain knowledge'},\n",
       "  'correct': 'c'},\n",
       " '2': {'mcq': 'Data science integrates domain knowledge from?',\n",
       "  'options': {'a': 'Only natural sciences',\n",
       "   'b': 'Natural sciences, information technology, and medicine',\n",
       "   'c': 'Only information technology',\n",
       "   'd': 'Only medicine'},\n",
       "  'correct': 'b'},\n",
       " '3': {'mcq': 'How can data science be described?',\n",
       "  'options': {'a': 'Only as a science',\n",
       "   'b': 'Only as a discipline',\n",
       "   'c': 'Only as a workflow',\n",
       "   'd': 'As a science, a research paradigm, a research method, a discipline, a workflow, and a profession'},\n",
       "  'correct': 'd'},\n",
       " '4': {'mcq': 'What is data science a concept to unify?',\n",
       "  'options': {'a': 'Statistics and data analysis',\n",
       "   'b': 'Informatics and data analysis',\n",
       "   'c': 'Statistics, data analysis, informatics, and related methods',\n",
       "   'd': 'Only statistics and informatics'},\n",
       "  'correct': 'c'},\n",
       " '5': {'mcq': 'What fields does data science use techniques and theories from?',\n",
       "  'options': {'a': 'Only mathematics',\n",
       "   'b': 'Only statistics',\n",
       "   'c': 'Only computer science',\n",
       "   'd': 'Mathematics, statistics, computer science, information science, and domain knowledge'},\n",
       "  'correct': 'd'},\n",
       " '6': {'mcq': 'Who imagined data science as a \"fourth paradigm\" of science?',\n",
       "  'options': {'a': 'Einstein', 'b': 'Jim Gray', 'c': 'Newton', 'd': 'Turing'},\n",
       "  'correct': 'b'},\n",
       " '7': {'mcq': 'What does a data scientist do?',\n",
       "  'options': {'a': 'Only creates programming code',\n",
       "   'b': 'Only analyzes data',\n",
       "   'c': 'Creates programming code and combines it with statistical knowledge to create insights from data',\n",
       "   'd': 'Only combines statistical knowledge'},\n",
       "  'correct': 'c'},\n",
       " '8': {'mcq': 'What skills does data science incorporate?',\n",
       "  'options': {'a': 'Only computer science',\n",
       "   'b': 'Only statistics',\n",
       "   'c': 'Only mathematics',\n",
       "   'd': 'Computer science, statistics, information science, mathematics, and more'},\n",
       "  'correct': 'd'},\n",
       " '9': {'mcq': 'According to the American Statistical Association, which is NOT one of the emerging foundational professional communities of data science?',\n",
       "  'options': {'a': 'Database management',\n",
       "   'b': 'Statistics and machine learning',\n",
       "   'c': 'Distributed and parallel systems',\n",
       "   'd': 'Web development'},\n",
       "  'correct': 'd'},\n",
       " '10': {'mcq': 'Data science aims to solve problems in?',\n",
       "  'options': {'a': 'Only technology domains',\n",
       "   'b': 'Only natural sciences',\n",
       "   'c': 'A broad range of application domains',\n",
       "   'd': 'Only in mathematics'},\n",
       "  'correct': 'c'}}"
      ]
     },
     "execution_count": 166,
     "metadata": {},
     "output_type": "execute_result"
    }
   ],
   "source": [
    "quiz_dict"
   ]
  },
  {
   "cell_type": "code",
   "execution_count": 167,
   "metadata": {},
   "outputs": [],
   "source": [
    "quiz_table_data = []\n",
    "for key, value in quiz_dict.items():\n",
    "    mcq = value[\"mcq\"]\n",
    "    options = \" | \".join(\n",
    "        [\n",
    "            f\"{option}: {option_value}\"\n",
    "            for option, option_value in value[\"options\"].items()\n",
    "            ]\n",
    "        )\n",
    "    correct = value[\"correct\"]\n",
    "    quiz_table_data.append({\"MCQ\": mcq, \"Choices\": options, \"Correct\": correct})"
   ]
  },
  {
   "cell_type": "code",
   "execution_count": 168,
   "metadata": {},
   "outputs": [
    {
     "data": {
      "text/plain": [
       "[{'MCQ': 'What does data science use to extract knowledge from data?',\n",
       "  'Choices': 'a: Only statistics | b: Only algorithms | c: Statistics, scientific computing, and algorithms | d: Only domain knowledge',\n",
       "  'Correct': 'c'},\n",
       " {'MCQ': 'Data science integrates domain knowledge from?',\n",
       "  'Choices': 'a: Only natural sciences | b: Natural sciences, information technology, and medicine | c: Only information technology | d: Only medicine',\n",
       "  'Correct': 'b'},\n",
       " {'MCQ': 'How can data science be described?',\n",
       "  'Choices': 'a: Only as a science | b: Only as a discipline | c: Only as a workflow | d: As a science, a research paradigm, a research method, a discipline, a workflow, and a profession',\n",
       "  'Correct': 'd'},\n",
       " {'MCQ': 'What is data science a concept to unify?',\n",
       "  'Choices': 'a: Statistics and data analysis | b: Informatics and data analysis | c: Statistics, data analysis, informatics, and related methods | d: Only statistics and informatics',\n",
       "  'Correct': 'c'},\n",
       " {'MCQ': 'What fields does data science use techniques and theories from?',\n",
       "  'Choices': 'a: Only mathematics | b: Only statistics | c: Only computer science | d: Mathematics, statistics, computer science, information science, and domain knowledge',\n",
       "  'Correct': 'd'},\n",
       " {'MCQ': 'Who imagined data science as a \"fourth paradigm\" of science?',\n",
       "  'Choices': 'a: Einstein | b: Jim Gray | c: Newton | d: Turing',\n",
       "  'Correct': 'b'},\n",
       " {'MCQ': 'What does a data scientist do?',\n",
       "  'Choices': 'a: Only creates programming code | b: Only analyzes data | c: Creates programming code and combines it with statistical knowledge to create insights from data | d: Only combines statistical knowledge',\n",
       "  'Correct': 'c'},\n",
       " {'MCQ': 'What skills does data science incorporate?',\n",
       "  'Choices': 'a: Only computer science | b: Only statistics | c: Only mathematics | d: Computer science, statistics, information science, mathematics, and more',\n",
       "  'Correct': 'd'},\n",
       " {'MCQ': 'According to the American Statistical Association, which is NOT one of the emerging foundational professional communities of data science?',\n",
       "  'Choices': 'a: Database management | b: Statistics and machine learning | c: Distributed and parallel systems | d: Web development',\n",
       "  'Correct': 'd'},\n",
       " {'MCQ': 'Data science aims to solve problems in?',\n",
       "  'Choices': 'a: Only technology domains | b: Only natural sciences | c: A broad range of application domains | d: Only in mathematics',\n",
       "  'Correct': 'c'}]"
      ]
     },
     "execution_count": 168,
     "metadata": {},
     "output_type": "execute_result"
    }
   ],
   "source": [
    "quiz_table_data"
   ]
  },
  {
   "cell_type": "code",
   "execution_count": null,
   "metadata": {},
   "outputs": [],
   "source": []
  },
  {
   "cell_type": "code",
   "execution_count": 169,
   "metadata": {},
   "outputs": [],
   "source": [
    "df=pd.DataFrame(quiz_table_data)"
   ]
  },
  {
   "cell_type": "code",
   "execution_count": 170,
   "metadata": {},
   "outputs": [
    {
     "data": {
      "text/html": [
       "<div>\n",
       "<style scoped>\n",
       "    .dataframe tbody tr th:only-of-type {\n",
       "        vertical-align: middle;\n",
       "    }\n",
       "\n",
       "    .dataframe tbody tr th {\n",
       "        vertical-align: top;\n",
       "    }\n",
       "\n",
       "    .dataframe thead th {\n",
       "        text-align: right;\n",
       "    }\n",
       "</style>\n",
       "<table border=\"1\" class=\"dataframe\">\n",
       "  <thead>\n",
       "    <tr style=\"text-align: right;\">\n",
       "      <th></th>\n",
       "      <th>MCQ</th>\n",
       "      <th>Choices</th>\n",
       "      <th>Correct</th>\n",
       "    </tr>\n",
       "  </thead>\n",
       "  <tbody>\n",
       "    <tr>\n",
       "      <th>0</th>\n",
       "      <td>What does data science use to extract knowledg...</td>\n",
       "      <td>a: Only statistics | b: Only algorithms | c: S...</td>\n",
       "      <td>c</td>\n",
       "    </tr>\n",
       "    <tr>\n",
       "      <th>1</th>\n",
       "      <td>Data science integrates domain knowledge from?</td>\n",
       "      <td>a: Only natural sciences | b: Natural sciences...</td>\n",
       "      <td>b</td>\n",
       "    </tr>\n",
       "    <tr>\n",
       "      <th>2</th>\n",
       "      <td>How can data science be described?</td>\n",
       "      <td>a: Only as a science | b: Only as a discipline...</td>\n",
       "      <td>d</td>\n",
       "    </tr>\n",
       "    <tr>\n",
       "      <th>3</th>\n",
       "      <td>What is data science a concept to unify?</td>\n",
       "      <td>a: Statistics and data analysis | b: Informati...</td>\n",
       "      <td>c</td>\n",
       "    </tr>\n",
       "    <tr>\n",
       "      <th>4</th>\n",
       "      <td>What fields does data science use techniques a...</td>\n",
       "      <td>a: Only mathematics | b: Only statistics | c: ...</td>\n",
       "      <td>d</td>\n",
       "    </tr>\n",
       "    <tr>\n",
       "      <th>5</th>\n",
       "      <td>Who imagined data science as a \"fourth paradig...</td>\n",
       "      <td>a: Einstein | b: Jim Gray | c: Newton | d: Turing</td>\n",
       "      <td>b</td>\n",
       "    </tr>\n",
       "    <tr>\n",
       "      <th>6</th>\n",
       "      <td>What does a data scientist do?</td>\n",
       "      <td>a: Only creates programming code | b: Only ana...</td>\n",
       "      <td>c</td>\n",
       "    </tr>\n",
       "    <tr>\n",
       "      <th>7</th>\n",
       "      <td>What skills does data science incorporate?</td>\n",
       "      <td>a: Only computer science | b: Only statistics ...</td>\n",
       "      <td>d</td>\n",
       "    </tr>\n",
       "    <tr>\n",
       "      <th>8</th>\n",
       "      <td>According to the American Statistical Associat...</td>\n",
       "      <td>a: Database management | b: Statistics and mac...</td>\n",
       "      <td>d</td>\n",
       "    </tr>\n",
       "    <tr>\n",
       "      <th>9</th>\n",
       "      <td>Data science aims to solve problems in?</td>\n",
       "      <td>a: Only technology domains | b: Only natural s...</td>\n",
       "      <td>c</td>\n",
       "    </tr>\n",
       "  </tbody>\n",
       "</table>\n",
       "</div>"
      ],
      "text/plain": [
       "                                                 MCQ  \\\n",
       "0  What does data science use to extract knowledg...   \n",
       "1     Data science integrates domain knowledge from?   \n",
       "2                 How can data science be described?   \n",
       "3           What is data science a concept to unify?   \n",
       "4  What fields does data science use techniques a...   \n",
       "5  Who imagined data science as a \"fourth paradig...   \n",
       "6                     What does a data scientist do?   \n",
       "7         What skills does data science incorporate?   \n",
       "8  According to the American Statistical Associat...   \n",
       "9            Data science aims to solve problems in?   \n",
       "\n",
       "                                             Choices Correct  \n",
       "0  a: Only statistics | b: Only algorithms | c: S...       c  \n",
       "1  a: Only natural sciences | b: Natural sciences...       b  \n",
       "2  a: Only as a science | b: Only as a discipline...       d  \n",
       "3  a: Statistics and data analysis | b: Informati...       c  \n",
       "4  a: Only mathematics | b: Only statistics | c: ...       d  \n",
       "5  a: Einstein | b: Jim Gray | c: Newton | d: Turing       b  \n",
       "6  a: Only creates programming code | b: Only ana...       c  \n",
       "7  a: Only computer science | b: Only statistics ...       d  \n",
       "8  a: Database management | b: Statistics and mac...       d  \n",
       "9  a: Only technology domains | b: Only natural s...       c  "
      ]
     },
     "execution_count": 170,
     "metadata": {},
     "output_type": "execute_result"
    }
   ],
   "source": [
    "df"
   ]
  },
  {
   "cell_type": "code",
   "execution_count": 171,
   "metadata": {},
   "outputs": [],
   "source": [
    "df.to_csv(\"Data_Science_Quiz.csv\",index=False)"
   ]
  },
  {
   "cell_type": "code",
   "execution_count": null,
   "metadata": {},
   "outputs": [],
   "source": []
  }
 ],
 "metadata": {
  "kernelspec": {
   "display_name": "venv",
   "language": "python",
   "name": "python3"
  },
  "language_info": {
   "codemirror_mode": {
    "name": "ipython",
    "version": 3
   },
   "file_extension": ".py",
   "mimetype": "text/x-python",
   "name": "python",
   "nbconvert_exporter": "python",
   "pygments_lexer": "ipython3",
   "version": "3.11.7"
  },
  "orig_nbformat": 4
 },
 "nbformat": 4,
 "nbformat_minor": 2
}
